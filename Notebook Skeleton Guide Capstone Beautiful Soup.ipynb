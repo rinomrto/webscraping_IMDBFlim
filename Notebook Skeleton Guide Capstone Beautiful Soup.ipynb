{
 "cells": [
  {
   "cell_type": "code",
   "execution_count": null,
   "source": [],
   "outputs": [],
   "metadata": {}
  },
  {
   "cell_type": "markdown",
   "source": [
    "# Capstone Webscrapping using BeautifulSoup\n",
    "\n",
    "This notebook contains guidances & tasks on the data processing for the application\n",
    "\n",
    "## background\n",
    "\n",
    "(Please insert the background here )\n",
    "\n",
    "## Requesting the Data and Creating a BeautifulSoup\n",
    "\n",
    "Let's begin with requesting the web from the site with `get` method."
   ],
   "metadata": {}
  },
  {
   "cell_type": "code",
   "execution_count": 5,
   "source": [
    "import requests\r\n",
    "url_get = requests.get('https://www.imdb.com/search/title/?release_date=2021-01-01,2021-12-31')"
   ],
   "outputs": [],
   "metadata": {
    "ExecuteTime": {
     "end_time": "2020-01-13T05:12:23.275508Z",
     "start_time": "2020-01-13T05:12:20.009898Z"
    }
   }
  },
  {
   "cell_type": "markdown",
   "source": [
    "To visualize what exactly you get from the `request.get`, we can use .content so ee what we exactly get, in here i slice it so it won't make our screen full of the html we get from the page. You can delete the slicing if you want to see what we fully get."
   ],
   "metadata": {}
  },
  {
   "cell_type": "code",
   "execution_count": 6,
   "source": [
    "url_get.content[1:500]"
   ],
   "outputs": [
    {
     "output_type": "execute_result",
     "data": {
      "text/plain": [
       "b'\\n<!DOCTYPE html>\\n<html\\n    xmlns:og=\"http://ogp.me/ns#\"\\n    xmlns:fb=\"http://www.facebook.com/2008/fbml\">\\n    <head>\\n         \\n        <meta charset=\"utf-8\">\\n        <meta http-equiv=\"X-UA-Compatible\" content=\"IE=edge\">\\n\\n    <meta name=\"apple-itunes-app\" content=\"app-id=342792525, app-argument=imdb:///?src=mdot\">\\n\\n\\n\\n        <script type=\"text/javascript\">var IMDbTimer={starttime: new Date().getTime(),pt:\\'java\\'};</script>\\n\\n<script>\\n    if (typeof uet == \\'function\\') {\\n      uet(\"bb\", \"LoadTitle\",'"
      ]
     },
     "metadata": {},
     "execution_count": 6
    }
   ],
   "metadata": {
    "ExecuteTime": {
     "end_time": "2020-01-13T05:12:23.290648Z",
     "start_time": "2020-01-13T05:12:23.277650Z"
    }
   }
  },
  {
   "cell_type": "markdown",
   "source": [
    "As we can see we get a very unstructured and complex html, which actually contains the codes needed to show the webpages on your web browser. But we as human still confused what and where we can use that piece of code, so here where we use the beautifulsoup. Beautiful soup class will result a beautifulsoup object. Beautiful Soup transforms a complex HTML document into a complex tree of Python objects. \n",
    "\n",
    "Let's make Beautiful soup object and feel free to explore the object here."
   ],
   "metadata": {}
  },
  {
   "cell_type": "code",
   "execution_count": 7,
   "source": [
    "from bs4 import BeautifulSoup \r\n",
    "\r\n",
    "soup = BeautifulSoup(url_get.content,\"html.parser\")\r\n",
    "print(type(soup))"
   ],
   "outputs": [
    {
     "output_type": "stream",
     "name": "stdout",
     "text": [
      "<class 'bs4.BeautifulSoup'>\n"
     ]
    }
   ],
   "metadata": {
    "ExecuteTime": {
     "end_time": "2020-01-13T05:12:23.808122Z",
     "start_time": "2020-01-13T05:12:23.292610Z"
    }
   }
  },
  {
   "cell_type": "markdown",
   "source": [
    "## Finding the right key to scrap the data & Extracting the right information"
   ],
   "metadata": {}
  },
  {
   "cell_type": "markdown",
   "source": [
    "Find the key and put the key into the `.find()` Put all the exploring the right key at this cell. (please change this markdown with your explanation)"
   ],
   "metadata": {}
  },
  {
   "cell_type": "code",
   "execution_count": 8,
   "source": [
    "table = soup.find(\"div\",attrs={\"lister-list\"})\r\n",
    "print(table.prettify()[1:500])\r\n",
    "\r\n"
   ],
   "outputs": [
    {
     "output_type": "stream",
     "name": "stdout",
     "text": [
      "div class=\"lister-list\">\n",
      " <div class=\"lister-item mode-advanced\">\n",
      "  <div class=\"lister-top-right\">\n",
      "   <div class=\"ribbonize\" data-caller=\"filmosearch\" data-tconst=\"tt9777666\">\n",
      "   </div>\n",
      "  </div>\n",
      "  <div class=\"lister-item-image float-left\">\n",
      "   <a href=\"/title/tt9777666/\">\n",
      "    <img alt=\"The Tomorrow War\" class=\"loadlate\" data-tconst=\"tt9777666\" height=\"98\" loadlate=\"https://m.media-amazon.com/images/M/MV5BNTI2YTI0MWEtNGQ4OS00ODIzLWE1MWEtZGJiN2E3ZmM1OWI1XkEyXkFqcGdeQXVyODk4OTc3MTY@._V1_UX67_CR0,0,\n"
     ]
    }
   ],
   "metadata": {
    "ExecuteTime": {
     "end_time": "2020-01-13T05:12:23.878904Z",
     "start_time": "2020-01-13T05:12:23.854974Z"
    }
   }
  },
  {
   "cell_type": "markdown",
   "source": [
    "Finding row length."
   ],
   "metadata": {}
  },
  {
   "cell_type": "code",
   "execution_count": 9,
   "source": [
    "row = table.find_all(\"div\",attrs={\"lister-item mode-advanced\"})\r\n",
    "row_length = len(row)\r\n",
    "row_length"
   ],
   "outputs": [
    {
     "output_type": "execute_result",
     "data": {
      "text/plain": [
       "50"
      ]
     },
     "metadata": {},
     "execution_count": 9
    }
   ],
   "metadata": {}
  },
  {
   "cell_type": "markdown",
   "source": [
    "Do the scrapping process here (please change this markdown with your explanation)"
   ],
   "metadata": {}
  },
  {
   "cell_type": "code",
   "execution_count": 10,
   "source": [
    "temp = [] #initiating a tuple\r\n",
    "\r\n",
    "for ListMovie in row:\r\n",
    "    \r\n",
    "    #get movie title\r\n",
    "    Title = ListMovie.h3.a.text\r\n",
    "        \r\n",
    "    #get movie rating\r\n",
    "    Rating = ListMovie.find('div', class_ = 'inline-block ratings-imdb-rating').text.replace('\\n','') if ListMovie.find('div', class_ = 'inline-block ratings-imdb-rating') else '0' \r\n",
    "    \r\n",
    "    #get metascore\r\n",
    "    Metascore = ListMovie.find('span', class_= 'metascore').text.replace(' ','') if ListMovie.find('span', class_= 'metascore') else '0'\r\n",
    "    \r\n",
    "    #get votes \r\n",
    "    Votes = ListMovie.find('span', attrs = {'name': \"nv\"}).text if ListMovie.find('span', attrs = {'name': \"nv\"}) else '0'\r\n",
    "    \r\n",
    "    \r\n",
    "    temp.append((Title,Rating,Metascore,Votes))\r\n",
    "\r\n",
    "temp"
   ],
   "outputs": [
    {
     "output_type": "execute_result",
     "data": {
      "text/plain": [
       "[('The Tomorrow War', '6.7', '45', '84,554'),\n",
       " ('Black Widow', '7.0', '68', '69,421'),\n",
       " ('Loki', '8.9', '0', '76,867'),\n",
       " ('Fear Street: 1994', '6.2', '67', '23,692'),\n",
       " ('Sex/Life', '5.5', '0', '7,040'),\n",
       " ('F9', '5.5', '58', '29,776'),\n",
       " ('No Sudden Move', '6.6', '77', '9,586'),\n",
       " ('Fear Street: 1978', '6.8', '61', '10,241'),\n",
       " ('Luca', '7.5', '71', '58,710'),\n",
       " ('What If...?', '0', '0', '0'),\n",
       " ('The Boss Baby: Family Business', '6.0', '40', '4,266'),\n",
       " ('In the Heights', '7.5', '84', '26,094'),\n",
       " ('Gossip Girl', '5.4', '0', '1,367'),\n",
       " (\"Hitman's Wife's Bodyguard\", '6.3', '32', '14,251'),\n",
       " (\"The King's Man\", '0', '0', '0'),\n",
       " ('Cruella', '7.4', '59', '89,878'),\n",
       " ('Mare of Easttown', '8.5', '0', '70,921'),\n",
       " ('The Forever Purge', '5.8', '54', '2,397'),\n",
       " ('Beckett', '0', '0', '0'),\n",
       " ('Monsters at Work', '7.4', '0', '942'),\n",
       " ('Till Death', '5.8', '66', '3,817'),\n",
       " ('Resident Evil: Infinite Darkness', '6.0', '0', '3,783'),\n",
       " ('The Suicide Squad', '0', '0', '0'),\n",
       " ('Sweet Tooth', '8.0', '0', '31,213'),\n",
       " ('The Many Saints of Newark', '0', '0', '0'),\n",
       " ('Haseen Dillruba', '6.9', '0', '12,887'),\n",
       " ('The Ice Road', '5.5', '42', '14,775'),\n",
       " ('Leverage: Redemption', '9.2', '0', '3,757'),\n",
       " ('Nobody', '7.4', '64', '120,639'),\n",
       " ('Physical', '7.1', '0', '1,836'),\n",
       " ('Raya and the Last Dragon', '7.4', '75', '94,058'),\n",
       " ('Cinderella', '0', '0', '0'),\n",
       " ('America: The Motion Picture', '5.7', '38', '3,287'),\n",
       " ('Werewolves Within', '6.0', '65', '3,174'),\n",
       " ('Young Royals', '8.6', '0', '6,967'),\n",
       " ('Annette', '7.1', '71', '470'),\n",
       " ('Space Jam: A New Legacy', '0', '0', '0'),\n",
       " ('Wrath of Man', '7.2', '57', '72,712'),\n",
       " ('Encanto', '0', '0', '0'),\n",
       " ('WandaVision', '8.0', '0', '193,673'),\n",
       " ('Star Wars: The Bad Batch', '8.3', '0', '11,491'),\n",
       " ('Old', '0', '0', '0'),\n",
       " ('The Mysterious Benedict Society', '7.7', '0', '866'),\n",
       " ('Mayor Grom: Chumnoy Doktor', '6.4', '0', '4,912'),\n",
       " ('Fear Street: 1666', '0', '0', '0'),\n",
       " ('Lupin', '7.5', '0', '79,536'),\n",
       " ('The Conjuring: The Devil Made Me Do It', '6.3', '53', '63,667'),\n",
       " ('Fatherhood', '6.7', '53', '21,170'),\n",
       " ('Out of Death', '0', '0', '0'),\n",
       " ('Infinite', '5.4', '28', '17,914')]"
      ]
     },
     "metadata": {},
     "execution_count": 10
    }
   ],
   "metadata": {
    "ExecuteTime": {
     "end_time": "2020-01-13T05:12:24.008256Z",
     "start_time": "2020-01-13T05:12:23.980358Z"
    }
   }
  },
  {
   "cell_type": "markdown",
   "source": [
    "## Creating data frame & Data wrangling"
   ],
   "metadata": {}
  },
  {
   "cell_type": "markdown",
   "source": [
    "Put the array into dataframe"
   ],
   "metadata": {}
  },
  {
   "cell_type": "code",
   "execution_count": 11,
   "source": [
    "import pandas as pd\r\n",
    "\r\n",
    "df = pd.DataFrame(temp, columns=('Title','Rating','Metascore','Votes'))\r\n",
    "df.head()"
   ],
   "outputs": [
    {
     "output_type": "execute_result",
     "data": {
      "text/plain": [
       "               Title Rating Metascore   Votes\n",
       "0   The Tomorrow War    6.7        45  84,554\n",
       "1        Black Widow    7.0        68  69,421\n",
       "2               Loki    8.9         0  76,867\n",
       "3  Fear Street: 1994    6.2        67  23,692\n",
       "4           Sex/Life    5.5         0   7,040"
      ],
      "text/html": [
       "<div>\n",
       "<style scoped>\n",
       "    .dataframe tbody tr th:only-of-type {\n",
       "        vertical-align: middle;\n",
       "    }\n",
       "\n",
       "    .dataframe tbody tr th {\n",
       "        vertical-align: top;\n",
       "    }\n",
       "\n",
       "    .dataframe thead th {\n",
       "        text-align: right;\n",
       "    }\n",
       "</style>\n",
       "<table border=\"1\" class=\"dataframe\">\n",
       "  <thead>\n",
       "    <tr style=\"text-align: right;\">\n",
       "      <th></th>\n",
       "      <th>Title</th>\n",
       "      <th>Rating</th>\n",
       "      <th>Metascore</th>\n",
       "      <th>Votes</th>\n",
       "    </tr>\n",
       "  </thead>\n",
       "  <tbody>\n",
       "    <tr>\n",
       "      <th>0</th>\n",
       "      <td>The Tomorrow War</td>\n",
       "      <td>6.7</td>\n",
       "      <td>45</td>\n",
       "      <td>84,554</td>\n",
       "    </tr>\n",
       "    <tr>\n",
       "      <th>1</th>\n",
       "      <td>Black Widow</td>\n",
       "      <td>7.0</td>\n",
       "      <td>68</td>\n",
       "      <td>69,421</td>\n",
       "    </tr>\n",
       "    <tr>\n",
       "      <th>2</th>\n",
       "      <td>Loki</td>\n",
       "      <td>8.9</td>\n",
       "      <td>0</td>\n",
       "      <td>76,867</td>\n",
       "    </tr>\n",
       "    <tr>\n",
       "      <th>3</th>\n",
       "      <td>Fear Street: 1994</td>\n",
       "      <td>6.2</td>\n",
       "      <td>67</td>\n",
       "      <td>23,692</td>\n",
       "    </tr>\n",
       "    <tr>\n",
       "      <th>4</th>\n",
       "      <td>Sex/Life</td>\n",
       "      <td>5.5</td>\n",
       "      <td>0</td>\n",
       "      <td>7,040</td>\n",
       "    </tr>\n",
       "  </tbody>\n",
       "</table>\n",
       "</div>"
      ]
     },
     "metadata": {},
     "execution_count": 11
    }
   ],
   "metadata": {
    "ExecuteTime": {
     "end_time": "2020-01-13T05:12:41.517372Z",
     "start_time": "2020-01-13T05:12:29.130015Z"
    }
   }
  },
  {
   "cell_type": "code",
   "execution_count": 12,
   "source": [
    "#Cek type data\r\n",
    "df.dtypes"
   ],
   "outputs": [
    {
     "output_type": "execute_result",
     "data": {
      "text/plain": [
       "Title        object\n",
       "Rating       object\n",
       "Metascore    object\n",
       "Votes        object\n",
       "dtype: object"
      ]
     },
     "metadata": {},
     "execution_count": 12
    }
   ],
   "metadata": {
    "ExecuteTime": {
     "end_time": "2020-01-13T05:12:59.165559Z",
     "start_time": "2020-01-13T05:12:58.910012Z"
    }
   }
  },
  {
   "cell_type": "code",
   "execution_count": 13,
   "source": [
    "#menghilangkan tanda baca koma \",\" pada kolom votes\r\n",
    "df[\"Votes\"] = df[\"Votes\"].str.replace(\",\",\"\")\r\n",
    "\r\n",
    "#Mengubah Type Data Rating menjadi Float '\r\n",
    "df[\"Rating\"] = df[\"Rating\"].astype(\"float64\")\r\n",
    "\r\n",
    "#Mengubah Type Data Votes' , 'Metascore' Menjadi Int\r\n",
    "df[[\"Votes\",\"Metascore\"]] = df[[\"Votes\",\"Metascore\"]] .astype(\"int64\")\r\n",
    "\r\n",
    "df.dtypes"
   ],
   "outputs": [
    {
     "output_type": "execute_result",
     "data": {
      "text/plain": [
       "Title         object\n",
       "Rating       float64\n",
       "Metascore      int64\n",
       "Votes          int64\n",
       "dtype: object"
      ]
     },
     "metadata": {},
     "execution_count": 13
    }
   ],
   "metadata": {}
  },
  {
   "cell_type": "code",
   "execution_count": 14,
   "source": [
    "#describe tentang data\r\n",
    "df.describe().round(2)"
   ],
   "outputs": [
    {
     "output_type": "execute_result",
     "data": {
      "text/plain": [
       "       Rating  Metascore      Votes\n",
       "count   50.00      50.00      50.00\n",
       "mean     5.38      26.56   26932.14\n",
       "std      3.03      30.71   40342.13\n",
       "min      0.00       0.00       0.00\n",
       "25%      5.43       0.00     885.00\n",
       "50%      6.35       0.00    7003.50\n",
       "75%      7.40      57.75   30853.75\n",
       "max      9.20      84.00  193673.00"
      ],
      "text/html": [
       "<div>\n",
       "<style scoped>\n",
       "    .dataframe tbody tr th:only-of-type {\n",
       "        vertical-align: middle;\n",
       "    }\n",
       "\n",
       "    .dataframe tbody tr th {\n",
       "        vertical-align: top;\n",
       "    }\n",
       "\n",
       "    .dataframe thead th {\n",
       "        text-align: right;\n",
       "    }\n",
       "</style>\n",
       "<table border=\"1\" class=\"dataframe\">\n",
       "  <thead>\n",
       "    <tr style=\"text-align: right;\">\n",
       "      <th></th>\n",
       "      <th>Rating</th>\n",
       "      <th>Metascore</th>\n",
       "      <th>Votes</th>\n",
       "    </tr>\n",
       "  </thead>\n",
       "  <tbody>\n",
       "    <tr>\n",
       "      <th>count</th>\n",
       "      <td>50.00</td>\n",
       "      <td>50.00</td>\n",
       "      <td>50.00</td>\n",
       "    </tr>\n",
       "    <tr>\n",
       "      <th>mean</th>\n",
       "      <td>5.38</td>\n",
       "      <td>26.56</td>\n",
       "      <td>26932.14</td>\n",
       "    </tr>\n",
       "    <tr>\n",
       "      <th>std</th>\n",
       "      <td>3.03</td>\n",
       "      <td>30.71</td>\n",
       "      <td>40342.13</td>\n",
       "    </tr>\n",
       "    <tr>\n",
       "      <th>min</th>\n",
       "      <td>0.00</td>\n",
       "      <td>0.00</td>\n",
       "      <td>0.00</td>\n",
       "    </tr>\n",
       "    <tr>\n",
       "      <th>25%</th>\n",
       "      <td>5.43</td>\n",
       "      <td>0.00</td>\n",
       "      <td>885.00</td>\n",
       "    </tr>\n",
       "    <tr>\n",
       "      <th>50%</th>\n",
       "      <td>6.35</td>\n",
       "      <td>0.00</td>\n",
       "      <td>7003.50</td>\n",
       "    </tr>\n",
       "    <tr>\n",
       "      <th>75%</th>\n",
       "      <td>7.40</td>\n",
       "      <td>57.75</td>\n",
       "      <td>30853.75</td>\n",
       "    </tr>\n",
       "    <tr>\n",
       "      <th>max</th>\n",
       "      <td>9.20</td>\n",
       "      <td>84.00</td>\n",
       "      <td>193673.00</td>\n",
       "    </tr>\n",
       "  </tbody>\n",
       "</table>\n",
       "</div>"
      ]
     },
     "metadata": {},
     "execution_count": 14
    }
   ],
   "metadata": {}
  },
  {
   "cell_type": "markdown",
   "source": [
    "Data visualisation (please change this markdown with your explanation of what you do for data wrangling)"
   ],
   "metadata": {}
  },
  {
   "cell_type": "code",
   "execution_count": 15,
   "source": [
    "\r\n",
    "top = df.groupby('Title').sum()[[\"Rating\"]].sort_values(by=\"Rating\",ascending=False)\r\n",
    "top.head()"
   ],
   "outputs": [
    {
     "output_type": "execute_result",
     "data": {
      "text/plain": [
       "                          Rating\n",
       "Title                           \n",
       "Leverage: Redemption         9.2\n",
       "Loki                         8.9\n",
       "Young Royals                 8.6\n",
       "Mare of Easttown             8.5\n",
       "Star Wars: The Bad Batch     8.3"
      ],
      "text/html": [
       "<div>\n",
       "<style scoped>\n",
       "    .dataframe tbody tr th:only-of-type {\n",
       "        vertical-align: middle;\n",
       "    }\n",
       "\n",
       "    .dataframe tbody tr th {\n",
       "        vertical-align: top;\n",
       "    }\n",
       "\n",
       "    .dataframe thead th {\n",
       "        text-align: right;\n",
       "    }\n",
       "</style>\n",
       "<table border=\"1\" class=\"dataframe\">\n",
       "  <thead>\n",
       "    <tr style=\"text-align: right;\">\n",
       "      <th></th>\n",
       "      <th>Rating</th>\n",
       "    </tr>\n",
       "    <tr>\n",
       "      <th>Title</th>\n",
       "      <th></th>\n",
       "    </tr>\n",
       "  </thead>\n",
       "  <tbody>\n",
       "    <tr>\n",
       "      <th>Leverage: Redemption</th>\n",
       "      <td>9.2</td>\n",
       "    </tr>\n",
       "    <tr>\n",
       "      <th>Loki</th>\n",
       "      <td>8.9</td>\n",
       "    </tr>\n",
       "    <tr>\n",
       "      <th>Young Royals</th>\n",
       "      <td>8.6</td>\n",
       "    </tr>\n",
       "    <tr>\n",
       "      <th>Mare of Easttown</th>\n",
       "      <td>8.5</td>\n",
       "    </tr>\n",
       "    <tr>\n",
       "      <th>Star Wars: The Bad Batch</th>\n",
       "      <td>8.3</td>\n",
       "    </tr>\n",
       "  </tbody>\n",
       "</table>\n",
       "</div>"
      ]
     },
     "metadata": {},
     "execution_count": 15
    }
   ],
   "metadata": {}
  },
  {
   "cell_type": "code",
   "execution_count": 16,
   "source": [
    "top.info()"
   ],
   "outputs": [
    {
     "output_type": "stream",
     "name": "stdout",
     "text": [
      "<class 'pandas.core.frame.DataFrame'>\n",
      "Index: 50 entries, Leverage: Redemption to Space Jam: A New Legacy\n",
      "Data columns (total 1 columns):\n",
      " #   Column  Non-Null Count  Dtype  \n",
      "---  ------  --------------  -----  \n",
      " 0   Rating  50 non-null     float64\n",
      "dtypes: float64(1)\n",
      "memory usage: 800.0+ bytes\n"
     ]
    }
   ],
   "metadata": {}
  },
  {
   "cell_type": "code",
   "execution_count": 26,
   "source": [
    "import matplotlib.pyplot as plt\r\n"
   ],
   "outputs": [],
   "metadata": {}
  },
  {
   "cell_type": "code",
   "execution_count": 18,
   "source": [
    "\r\n",
    "#Mengkelompokan Rating Film\r\n",
    "\r\n",
    "def rating(rating):\r\n",
    "    if rating>=7.5:\r\n",
    "        return \"Excellent\"\r\n",
    "    elif rating>=6.0:\r\n",
    "        return 'Good'\r\n",
    "    else:\r\n",
    "        return 'Average'"
   ],
   "outputs": [],
   "metadata": {}
  },
  {
   "cell_type": "code",
   "execution_count": 19,
   "source": [
    "\r\n",
    "df['Category Rating']=df['Rating'].apply(rating)\r\n",
    "CRating= df.groupby('Category Rating')\r\n",
    "CRating.get_group('Excellent').reset_index()"
   ],
   "outputs": [
    {
     "output_type": "execute_result",
     "data": {
      "text/plain": [
       "    index                            Title  Rating  Metascore   Votes  \\\n",
       "0       2                             Loki     8.9          0   76867   \n",
       "1       8                             Luca     7.5         71   58710   \n",
       "2      11                   In the Heights     7.5         84   26094   \n",
       "3      16                 Mare of Easttown     8.5          0   70921   \n",
       "4      23                      Sweet Tooth     8.0          0   31213   \n",
       "5      27             Leverage: Redemption     9.2          0    3757   \n",
       "6      34                     Young Royals     8.6          0    6967   \n",
       "7      39                      WandaVision     8.0          0  193673   \n",
       "8      40         Star Wars: The Bad Batch     8.3          0   11491   \n",
       "9      42  The Mysterious Benedict Society     7.7          0     866   \n",
       "10     45                            Lupin     7.5          0   79536   \n",
       "\n",
       "   Category Rating  \n",
       "0        Excellent  \n",
       "1        Excellent  \n",
       "2        Excellent  \n",
       "3        Excellent  \n",
       "4        Excellent  \n",
       "5        Excellent  \n",
       "6        Excellent  \n",
       "7        Excellent  \n",
       "8        Excellent  \n",
       "9        Excellent  \n",
       "10       Excellent  "
      ],
      "text/html": [
       "<div>\n",
       "<style scoped>\n",
       "    .dataframe tbody tr th:only-of-type {\n",
       "        vertical-align: middle;\n",
       "    }\n",
       "\n",
       "    .dataframe tbody tr th {\n",
       "        vertical-align: top;\n",
       "    }\n",
       "\n",
       "    .dataframe thead th {\n",
       "        text-align: right;\n",
       "    }\n",
       "</style>\n",
       "<table border=\"1\" class=\"dataframe\">\n",
       "  <thead>\n",
       "    <tr style=\"text-align: right;\">\n",
       "      <th></th>\n",
       "      <th>index</th>\n",
       "      <th>Title</th>\n",
       "      <th>Rating</th>\n",
       "      <th>Metascore</th>\n",
       "      <th>Votes</th>\n",
       "      <th>Category Rating</th>\n",
       "    </tr>\n",
       "  </thead>\n",
       "  <tbody>\n",
       "    <tr>\n",
       "      <th>0</th>\n",
       "      <td>2</td>\n",
       "      <td>Loki</td>\n",
       "      <td>8.9</td>\n",
       "      <td>0</td>\n",
       "      <td>76867</td>\n",
       "      <td>Excellent</td>\n",
       "    </tr>\n",
       "    <tr>\n",
       "      <th>1</th>\n",
       "      <td>8</td>\n",
       "      <td>Luca</td>\n",
       "      <td>7.5</td>\n",
       "      <td>71</td>\n",
       "      <td>58710</td>\n",
       "      <td>Excellent</td>\n",
       "    </tr>\n",
       "    <tr>\n",
       "      <th>2</th>\n",
       "      <td>11</td>\n",
       "      <td>In the Heights</td>\n",
       "      <td>7.5</td>\n",
       "      <td>84</td>\n",
       "      <td>26094</td>\n",
       "      <td>Excellent</td>\n",
       "    </tr>\n",
       "    <tr>\n",
       "      <th>3</th>\n",
       "      <td>16</td>\n",
       "      <td>Mare of Easttown</td>\n",
       "      <td>8.5</td>\n",
       "      <td>0</td>\n",
       "      <td>70921</td>\n",
       "      <td>Excellent</td>\n",
       "    </tr>\n",
       "    <tr>\n",
       "      <th>4</th>\n",
       "      <td>23</td>\n",
       "      <td>Sweet Tooth</td>\n",
       "      <td>8.0</td>\n",
       "      <td>0</td>\n",
       "      <td>31213</td>\n",
       "      <td>Excellent</td>\n",
       "    </tr>\n",
       "    <tr>\n",
       "      <th>5</th>\n",
       "      <td>27</td>\n",
       "      <td>Leverage: Redemption</td>\n",
       "      <td>9.2</td>\n",
       "      <td>0</td>\n",
       "      <td>3757</td>\n",
       "      <td>Excellent</td>\n",
       "    </tr>\n",
       "    <tr>\n",
       "      <th>6</th>\n",
       "      <td>34</td>\n",
       "      <td>Young Royals</td>\n",
       "      <td>8.6</td>\n",
       "      <td>0</td>\n",
       "      <td>6967</td>\n",
       "      <td>Excellent</td>\n",
       "    </tr>\n",
       "    <tr>\n",
       "      <th>7</th>\n",
       "      <td>39</td>\n",
       "      <td>WandaVision</td>\n",
       "      <td>8.0</td>\n",
       "      <td>0</td>\n",
       "      <td>193673</td>\n",
       "      <td>Excellent</td>\n",
       "    </tr>\n",
       "    <tr>\n",
       "      <th>8</th>\n",
       "      <td>40</td>\n",
       "      <td>Star Wars: The Bad Batch</td>\n",
       "      <td>8.3</td>\n",
       "      <td>0</td>\n",
       "      <td>11491</td>\n",
       "      <td>Excellent</td>\n",
       "    </tr>\n",
       "    <tr>\n",
       "      <th>9</th>\n",
       "      <td>42</td>\n",
       "      <td>The Mysterious Benedict Society</td>\n",
       "      <td>7.7</td>\n",
       "      <td>0</td>\n",
       "      <td>866</td>\n",
       "      <td>Excellent</td>\n",
       "    </tr>\n",
       "    <tr>\n",
       "      <th>10</th>\n",
       "      <td>45</td>\n",
       "      <td>Lupin</td>\n",
       "      <td>7.5</td>\n",
       "      <td>0</td>\n",
       "      <td>79536</td>\n",
       "      <td>Excellent</td>\n",
       "    </tr>\n",
       "  </tbody>\n",
       "</table>\n",
       "</div>"
      ]
     },
     "metadata": {},
     "execution_count": 19
    }
   ],
   "metadata": {}
  },
  {
   "cell_type": "code",
   "execution_count": null,
   "source": [
    "Jadi kesimpulanya Terdapat 14 Judul Film yang mendapatkan rating >7.5( Excellent) Pada tahun 2021"
   ],
   "outputs": [],
   "metadata": {}
  },
  {
   "cell_type": "markdown",
   "source": [
    "### Implementing your webscrapping to the flask dashboard\r\n",
    "\r\n",
    "- Copy paste all of your web scrapping process to the desired position on the `app.py`\r\n",
    "- Changing the title of the dasboard at `index.html`"
   ],
   "metadata": {}
  },
  {
   "cell_type": "markdown",
   "source": [
    "## Finishing This Notebook with Your Analysis and Conclusion\r\n",
    "\r\n",
    "First you can do start with making the data visualisation. "
   ],
   "metadata": {}
  },
  {
   "cell_type": "code",
   "execution_count": 25,
   "source": [
    "#10 Film Terbaik Berdasarkan Rating ( Plot)\r\n",
    "top.head(10).sort_values(by=\"Rating\",ascending=True).plot(kind=\"barh\",xlabel=\"Film\",ylabel=\"Value\")\r\n",
    "\r\n",
    "\r\n"
   ],
   "outputs": [
    {
     "output_type": "execute_result",
     "data": {
      "text/plain": [
       "<AxesSubplot:ylabel='Film'>"
      ]
     },
     "metadata": {},
     "execution_count": 25
    },
    {
     "output_type": "display_data",
     "data": {
      "text/plain": [
       "<Figure size 432x288 with 1 Axes>"
      ],
      "image/png": "[encoded data removed]"
     },
     "metadata": {
      "needs_background": "light"
     }
    }
   ],
   "metadata": {}
  },
  {
   "cell_type": "markdown",
   "source": [
    "\r\n",
    "Dari Top 10 Film, Terdapat 7 Film yang memiliki rating diatas 8, dan 3 film yang memiliki rating dibawah 8"
   ],
   "metadata": {}
  }
 ],
 "metadata": {
  "kernelspec": {
   "display_name": "capstone-da",
   "language": "python",
   "name": "capstone-da"
  },
  "language_info": {
   "codemirror_mode": {
    "name": "ipython",
    "version": 3
   },
   "file_extension": ".py",
   "mimetype": "text/x-python",
   "name": "python",
   "nbconvert_exporter": "python",
   "pygments_lexer": "ipython3",
   "version": "3.6.2"
  },
  "toc": {
   "base_numbering": 1,
   "nav_menu": {},
   "number_sections": true,
   "sideBar": true,
   "skip_h1_title": false,
   "title_cell": "Table of Contents",
   "title_sidebar": "Contents",
   "toc_cell": false,
   "toc_position": {},
   "toc_section_display": true,
   "toc_window_display": false
  }
 },
 "nbformat": 4,
 "nbformat_minor": 2
}